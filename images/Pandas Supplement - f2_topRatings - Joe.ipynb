{
 "cells": [
  {
   "cell_type": "markdown",
   "metadata": {},
   "source": [
    "# Finding 2 using Pandas - Joe"
   ]
  },
  {
   "cell_type": "markdown",
   "metadata": {},
   "source": [
    "# Ratings and Revenue"
   ]
  },
  {
   "cell_type": "markdown",
   "metadata": {},
   "source": [
    "Is there a noticeable relationship between ratings and the top film gross revenue?\n"
   ]
  },
  {
   "cell_type": "markdown",
   "metadata": {},
   "source": [
    "## import the data"
   ]
  },
  {
   "cell_type": "code",
   "execution_count": 1,
   "metadata": {
    "ExecuteTime": {
     "end_time": "2020-06-21T06:22:12.011476Z",
     "start_time": "2020-06-21T06:22:10.931210Z"
    }
   },
   "outputs": [],
   "source": [
    "#necessary imports\n",
    "\n",
    "import sqlite3\n",
    "import os\n",
    "import pandas as pd\n",
    "import numpy as np\n",
    "import matplotlib.pyplot as plt\n",
    "import seaborn as sns\n",
    "from glob import glob"
   ]
  },
  {
   "cell_type": "code",
   "execution_count": 2,
   "metadata": {
    "ExecuteTime": {
     "end_time": "2020-06-21T06:22:12.027427Z",
     "start_time": "2020-06-21T06:22:12.012466Z"
    }
   },
   "outputs": [],
   "source": [
    "#add pandas display options for number and column display\n",
    "\n",
    "pd.options.display.float_format = '{:.2f}'.format\n",
    "pd.set_option('display.max_columns', None)\n"
   ]
  },
  {
   "cell_type": "code",
   "execution_count": 4,
   "metadata": {
    "ExecuteTime": {
     "end_time": "2020-06-21T06:22:13.264762Z",
     "start_time": "2020-06-21T06:22:13.250834Z"
    }
   },
   "outputs": [
    {
     "data": {
      "text/plain": [
       "['./zippedData\\\\bom.movie_gross.csv.gz',\n",
       " './zippedData\\\\imdb.name.basics.csv.gz',\n",
       " './zippedData\\\\imdb.title.akas.csv.gz',\n",
       " './zippedData\\\\imdb.title.basics.csv.gz',\n",
       " './zippedData\\\\imdb.title.crew.csv.gz',\n",
       " './zippedData\\\\imdb.title.principals.csv.gz',\n",
       " './zippedData\\\\rt.movie_info.csv.gz',\n",
       " './zippedData\\\\rt.reviews.csv.gz',\n",
       " './zippedData\\\\tmdb.movies.csv.gz',\n",
       " './zippedData\\\\tn.movie_budgets.csv.gz']"
      ]
     },
     "execution_count": 4,
     "metadata": {},
     "output_type": "execute_result"
    }
   ],
   "source": [
    "#importing data using glob\n",
    "\n",
    "datafiles = glob(\"./zippedData/*.csv.gz\")\n",
    "datafiles"
   ]
  },
  {
   "cell_type": "code",
   "execution_count": 5,
   "metadata": {
    "ExecuteTime": {
     "end_time": "2020-06-21T06:22:16.275010Z",
     "start_time": "2020-06-21T06:22:13.266758Z"
    }
   },
   "outputs": [],
   "source": [
    "# cleaning the filenames\n",
    "\n",
    "csv_files_dict = {} #create a dictionary of datasets\n",
    "for filename in csv_files: #create a for loop to batch clean files\n",
    "    filename_cleaned = os.path.basename(filename).replace(\".csv\", \"\").replace(\".\", \"_\") #remove .csv file extensions\n",
    "    filename_df = pd.read_csv(filename, index_col=0, encoding='utf-8') \n",
    "    csv_files_dict[filename_cleaned] = filename_df #load .csv file as dataframe using col 1 as index and encode in utf-8 and save as the cleaned filename"
   ]
  },
  {
   "cell_type": "code",
   "execution_count": 6,
   "metadata": {
    "ExecuteTime": {
     "end_time": "2020-06-21T06:22:16.290892Z",
     "start_time": "2020-06-21T06:22:16.275932Z"
    }
   },
   "outputs": [
    {
     "name": "stdout",
     "output_type": "stream",
     "text": [
      "dict_keys(['bom_movie_gross', 'imdb_name_basics', 'imdb_title_akas', 'imdb_title_basics', 'imdb_title_crew', 'imdb_title_principals', 'rt_movie_info', 'rt_reviews', 'tmdb_movies', 'tn_movie_budgets'])\n"
     ]
    }
   ],
   "source": [
    "print(datafiles_dict.keys()) #print dictionary keys"
   ]
  },
  {
   "cell_type": "code",
   "execution_count": 7,
   "metadata": {
    "ExecuteTime": {
     "end_time": "2020-06-21T06:22:16.413616Z",
     "start_time": "2020-06-21T06:22:16.292886Z"
    }
   },
   "outputs": [
    {
     "data": {
      "text/html": [
       "<div>\n",
       "<style scoped>\n",
       "    .dataframe tbody tr th:only-of-type {\n",
       "        vertical-align: middle;\n",
       "    }\n",
       "\n",
       "    .dataframe tbody tr th {\n",
       "        vertical-align: top;\n",
       "    }\n",
       "\n",
       "    .dataframe thead th {\n",
       "        text-align: right;\n",
       "    }\n",
       "</style>\n",
       "<table border=\"1\" class=\"dataframe\">\n",
       "  <thead>\n",
       "    <tr style=\"text-align: right;\">\n",
       "      <th></th>\n",
       "      <th>Unnamed: 0</th>\n",
       "      <th>id</th>\n",
       "      <th>original_title</th>\n",
       "      <th>popularity</th>\n",
       "      <th>release_date_x</th>\n",
       "      <th>title</th>\n",
       "      <th>vote_average</th>\n",
       "      <th>vote_count</th>\n",
       "      <th>Fantasy</th>\n",
       "      <th>Drama</th>\n",
       "      <th>War</th>\n",
       "      <th>Mystery</th>\n",
       "      <th>Comedy</th>\n",
       "      <th>Romance</th>\n",
       "      <th>Family</th>\n",
       "      <th>Music</th>\n",
       "      <th>Documentary</th>\n",
       "      <th>Animation</th>\n",
       "      <th>Western</th>\n",
       "      <th>Action</th>\n",
       "      <th>Crime</th>\n",
       "      <th>Thriller</th>\n",
       "      <th>TV Movie</th>\n",
       "      <th>Adventure</th>\n",
       "      <th>History</th>\n",
       "      <th>Science Fiction</th>\n",
       "      <th>Horror</th>\n",
       "      <th>original_language</th>\n",
       "      <th>release_date_y</th>\n",
       "      <th>movie</th>\n",
       "      <th>production_budget</th>\n",
       "      <th>domestic_gross</th>\n",
       "      <th>worldwide_gross</th>\n",
       "      <th>domesticgross_v_production</th>\n",
       "      <th>total_net</th>\n",
       "    </tr>\n",
       "  </thead>\n",
       "  <tbody>\n",
       "    <tr>\n",
       "      <td>0</td>\n",
       "      <td>0</td>\n",
       "      <td>12444</td>\n",
       "      <td>Harry Potter and the Deathly Hallows: Part 1</td>\n",
       "      <td>33.53</td>\n",
       "      <td>2010-11-19</td>\n",
       "      <td>Harry Potter and the Deathly Hallows: Part 1</td>\n",
       "      <td>7.70</td>\n",
       "      <td>10788</td>\n",
       "      <td>1.00</td>\n",
       "      <td>0.00</td>\n",
       "      <td>0.00</td>\n",
       "      <td>0.00</td>\n",
       "      <td>0.00</td>\n",
       "      <td>0.00</td>\n",
       "      <td>1.00</td>\n",
       "      <td>0.00</td>\n",
       "      <td>0.00</td>\n",
       "      <td>0.00</td>\n",
       "      <td>0.00</td>\n",
       "      <td>0.00</td>\n",
       "      <td>0.00</td>\n",
       "      <td>0.00</td>\n",
       "      <td>0.00</td>\n",
       "      <td>1.00</td>\n",
       "      <td>0.00</td>\n",
       "      <td>0.00</td>\n",
       "      <td>0.00</td>\n",
       "      <td>English</td>\n",
       "      <td>NaN</td>\n",
       "      <td>NaN</td>\n",
       "      <td>nan</td>\n",
       "      <td>nan</td>\n",
       "      <td>nan</td>\n",
       "      <td>nan</td>\n",
       "      <td>nan</td>\n",
       "    </tr>\n",
       "    <tr>\n",
       "      <td>1</td>\n",
       "      <td>1</td>\n",
       "      <td>10191</td>\n",
       "      <td>How to Train Your Dragon</td>\n",
       "      <td>28.73</td>\n",
       "      <td>2010-03-26</td>\n",
       "      <td>How to Train Your Dragon</td>\n",
       "      <td>7.70</td>\n",
       "      <td>7610</td>\n",
       "      <td>1.00</td>\n",
       "      <td>0.00</td>\n",
       "      <td>0.00</td>\n",
       "      <td>0.00</td>\n",
       "      <td>0.00</td>\n",
       "      <td>0.00</td>\n",
       "      <td>1.00</td>\n",
       "      <td>0.00</td>\n",
       "      <td>0.00</td>\n",
       "      <td>1.00</td>\n",
       "      <td>0.00</td>\n",
       "      <td>0.00</td>\n",
       "      <td>0.00</td>\n",
       "      <td>0.00</td>\n",
       "      <td>0.00</td>\n",
       "      <td>1.00</td>\n",
       "      <td>0.00</td>\n",
       "      <td>0.00</td>\n",
       "      <td>0.00</td>\n",
       "      <td>English</td>\n",
       "      <td>Mar 26, 2010</td>\n",
       "      <td>How to Train Your Dragon</td>\n",
       "      <td>165000000.00</td>\n",
       "      <td>217581232.00</td>\n",
       "      <td>494870992.00</td>\n",
       "      <td>52581232.00</td>\n",
       "      <td>329870992.00</td>\n",
       "    </tr>\n",
       "    <tr>\n",
       "      <td>2</td>\n",
       "      <td>2</td>\n",
       "      <td>10138</td>\n",
       "      <td>Iron Man 2</td>\n",
       "      <td>28.52</td>\n",
       "      <td>2010-05-07</td>\n",
       "      <td>Iron Man 2</td>\n",
       "      <td>6.80</td>\n",
       "      <td>12368</td>\n",
       "      <td>0.00</td>\n",
       "      <td>0.00</td>\n",
       "      <td>0.00</td>\n",
       "      <td>0.00</td>\n",
       "      <td>0.00</td>\n",
       "      <td>0.00</td>\n",
       "      <td>0.00</td>\n",
       "      <td>0.00</td>\n",
       "      <td>0.00</td>\n",
       "      <td>0.00</td>\n",
       "      <td>0.00</td>\n",
       "      <td>1.00</td>\n",
       "      <td>0.00</td>\n",
       "      <td>0.00</td>\n",
       "      <td>0.00</td>\n",
       "      <td>1.00</td>\n",
       "      <td>0.00</td>\n",
       "      <td>1.00</td>\n",
       "      <td>0.00</td>\n",
       "      <td>English</td>\n",
       "      <td>May 7, 2010</td>\n",
       "      <td>Iron Man 2</td>\n",
       "      <td>170000000.00</td>\n",
       "      <td>312433331.00</td>\n",
       "      <td>621156389.00</td>\n",
       "      <td>142433331.00</td>\n",
       "      <td>451156389.00</td>\n",
       "    </tr>\n",
       "    <tr>\n",
       "      <td>3</td>\n",
       "      <td>3</td>\n",
       "      <td>862</td>\n",
       "      <td>Toy Story</td>\n",
       "      <td>28.00</td>\n",
       "      <td>1995-11-22</td>\n",
       "      <td>Toy Story</td>\n",
       "      <td>7.90</td>\n",
       "      <td>10174</td>\n",
       "      <td>0.00</td>\n",
       "      <td>0.00</td>\n",
       "      <td>0.00</td>\n",
       "      <td>0.00</td>\n",
       "      <td>1.00</td>\n",
       "      <td>0.00</td>\n",
       "      <td>1.00</td>\n",
       "      <td>0.00</td>\n",
       "      <td>0.00</td>\n",
       "      <td>1.00</td>\n",
       "      <td>0.00</td>\n",
       "      <td>0.00</td>\n",
       "      <td>0.00</td>\n",
       "      <td>0.00</td>\n",
       "      <td>0.00</td>\n",
       "      <td>0.00</td>\n",
       "      <td>0.00</td>\n",
       "      <td>0.00</td>\n",
       "      <td>0.00</td>\n",
       "      <td>English</td>\n",
       "      <td>Nov 22, 1995</td>\n",
       "      <td>Toy Story</td>\n",
       "      <td>30000000.00</td>\n",
       "      <td>191796233.00</td>\n",
       "      <td>364545516.00</td>\n",
       "      <td>161796233.00</td>\n",
       "      <td>334545516.00</td>\n",
       "    </tr>\n",
       "    <tr>\n",
       "      <td>4</td>\n",
       "      <td>4</td>\n",
       "      <td>27205</td>\n",
       "      <td>Inception</td>\n",
       "      <td>27.92</td>\n",
       "      <td>2010-07-16</td>\n",
       "      <td>Inception</td>\n",
       "      <td>8.30</td>\n",
       "      <td>22186</td>\n",
       "      <td>0.00</td>\n",
       "      <td>0.00</td>\n",
       "      <td>0.00</td>\n",
       "      <td>0.00</td>\n",
       "      <td>0.00</td>\n",
       "      <td>0.00</td>\n",
       "      <td>0.00</td>\n",
       "      <td>0.00</td>\n",
       "      <td>0.00</td>\n",
       "      <td>0.00</td>\n",
       "      <td>0.00</td>\n",
       "      <td>1.00</td>\n",
       "      <td>0.00</td>\n",
       "      <td>0.00</td>\n",
       "      <td>0.00</td>\n",
       "      <td>1.00</td>\n",
       "      <td>0.00</td>\n",
       "      <td>1.00</td>\n",
       "      <td>0.00</td>\n",
       "      <td>English</td>\n",
       "      <td>Jul 16, 2010</td>\n",
       "      <td>Inception</td>\n",
       "      <td>160000000.00</td>\n",
       "      <td>292576195.00</td>\n",
       "      <td>835524642.00</td>\n",
       "      <td>132576195.00</td>\n",
       "      <td>675524642.00</td>\n",
       "    </tr>\n",
       "  </tbody>\n",
       "</table>\n",
       "</div>"
      ],
      "text/plain": [
       "   Unnamed: 0     id                                original_title  \\\n",
       "0           0  12444  Harry Potter and the Deathly Hallows: Part 1   \n",
       "1           1  10191                      How to Train Your Dragon   \n",
       "2           2  10138                                    Iron Man 2   \n",
       "3           3    862                                     Toy Story   \n",
       "4           4  27205                                     Inception   \n",
       "\n",
       "   popularity release_date_x                                         title  \\\n",
       "0       33.53     2010-11-19  Harry Potter and the Deathly Hallows: Part 1   \n",
       "1       28.73     2010-03-26                      How to Train Your Dragon   \n",
       "2       28.52     2010-05-07                                    Iron Man 2   \n",
       "3       28.00     1995-11-22                                     Toy Story   \n",
       "4       27.92     2010-07-16                                     Inception   \n",
       "\n",
       "   vote_average  vote_count  Fantasy  Drama  War  Mystery  Comedy  Romance  \\\n",
       "0          7.70       10788     1.00   0.00 0.00     0.00    0.00     0.00   \n",
       "1          7.70        7610     1.00   0.00 0.00     0.00    0.00     0.00   \n",
       "2          6.80       12368     0.00   0.00 0.00     0.00    0.00     0.00   \n",
       "3          7.90       10174     0.00   0.00 0.00     0.00    1.00     0.00   \n",
       "4          8.30       22186     0.00   0.00 0.00     0.00    0.00     0.00   \n",
       "\n",
       "   Family  Music  Documentary  Animation  Western  Action  Crime  Thriller  \\\n",
       "0    1.00   0.00         0.00       0.00     0.00    0.00   0.00      0.00   \n",
       "1    1.00   0.00         0.00       1.00     0.00    0.00   0.00      0.00   \n",
       "2    0.00   0.00         0.00       0.00     0.00    1.00   0.00      0.00   \n",
       "3    1.00   0.00         0.00       1.00     0.00    0.00   0.00      0.00   \n",
       "4    0.00   0.00         0.00       0.00     0.00    1.00   0.00      0.00   \n",
       "\n",
       "   TV Movie  Adventure  History  Science Fiction  Horror original_language  \\\n",
       "0      0.00       1.00     0.00             0.00    0.00           English   \n",
       "1      0.00       1.00     0.00             0.00    0.00           English   \n",
       "2      0.00       1.00     0.00             1.00    0.00           English   \n",
       "3      0.00       0.00     0.00             0.00    0.00           English   \n",
       "4      0.00       1.00     0.00             1.00    0.00           English   \n",
       "\n",
       "  release_date_y                     movie  production_budget  domestic_gross  \\\n",
       "0            NaN                       NaN                nan             nan   \n",
       "1   Mar 26, 2010  How to Train Your Dragon       165000000.00    217581232.00   \n",
       "2    May 7, 2010                Iron Man 2       170000000.00    312433331.00   \n",
       "3   Nov 22, 1995                 Toy Story        30000000.00    191796233.00   \n",
       "4   Jul 16, 2010                 Inception       160000000.00    292576195.00   \n",
       "\n",
       "   worldwide_gross  domesticgross_v_production    total_net  \n",
       "0              nan                         nan          nan  \n",
       "1     494870992.00                 52581232.00 329870992.00  \n",
       "2     621156389.00                142433331.00 451156389.00  \n",
       "3     364545516.00                161796233.00 334545516.00  \n",
       "4     835524642.00                132576195.00 675524642.00  "
      ]
     },
     "execution_count": 7,
     "metadata": {},
     "output_type": "execute_result"
    }
   ],
   "source": [
    "#load in dataset in csv to dataframe\n",
    "\n",
    "tmdb_mglb_df = pd.read_csv('./zippedData/tmdb_mglb.csv')\n",
    "\n",
    "tmdb_mglb_df.head() #call first 5 rows"
   ]
  },
  {
   "cell_type": "code",
   "execution_count": 8,
   "metadata": {
    "ExecuteTime": {
     "end_time": "2020-06-21T06:22:16.429539Z",
     "start_time": "2020-06-21T06:22:16.415576Z"
    }
   },
   "outputs": [],
   "source": [
    "tmdb_mglb_df = tmdb_mglb_df.drop(['Unnamed: 0', 'movie', 'title'], axis=1) #drop columns"
   ]
  },
  {
   "cell_type": "markdown",
   "metadata": {},
   "source": [
    "## Ratings"
   ]
  },
  {
   "cell_type": "markdown",
   "metadata": {},
   "source": [
    "Review user-generated review/rating aka Audience Score\n",
    "\n",
    "### Of the films with the top 5 box office revenue, how were the ratings?"
   ]
  },
  {
   "cell_type": "markdown",
   "metadata": {
    "ExecuteTime": {
     "end_time": "2020-06-21T06:22:16.522301Z",
     "start_time": "2020-06-21T06:22:16.431534Z"
    }
   },
   "source": [
    "KAT"
   ]
  },
  {
   "cell_type": "markdown",
   "metadata": {
    "ExecuteTime": {
     "end_time": "2020-06-19T17:27:41.497493Z",
     "start_time": "2020-06-19T17:27:41.493396Z"
    }
   },
   "source": [
    "**Finding**: We can see that there is not a significant with the top 5 films having the highest box office revenue."
   ]
  },
  {
   "cell_type": "markdown",
   "metadata": {},
   "source": [
    "### Is there a common genre associated with top ratings?"
   ]
  },
  {
   "cell_type": "markdown",
   "metadata": {
    "ExecuteTime": {
     "end_time": "2020-06-21T06:22:16.526280Z",
     "start_time": "2020-06-21T06:22:10.966Z"
    },
    "scrolled": true
   },
   "source": [
    "KAT"
   ]
  },
  {
   "cell_type": "markdown",
   "metadata": {},
   "source": [
    "**Finding**: Films with the highest ratings and highest box office revenue are primarily distributed within the action, adventure, comedy and drama genres."
   ]
  },
  {
   "cell_type": "markdown",
   "metadata": {},
   "source": [
    "### Popularity, Gross Profit and Net Revenue: are there any notable patterns?"
   ]
  },
  {
   "cell_type": "markdown",
   "metadata": {},
   "source": [
    "***Movie Popularity metric in TMDB calculated by:***<br>\n",
    "<ul><li>Number of votes for the day</li>\n",
    "    <li>Number of views for the day</li>\n",
    "    <li>Number of users who marked it as a \"favourite\" for the day</li>\n",
    "    <li>Number of users who added it to their \"watchlist\" for the day</li>\n",
    "    <li>Release date</li>\n",
    "    <li>Number of total votes</li>\n",
    "    <li>Previous days score</li>"
   ]
  },
  {
   "cell_type": "code",
   "execution_count": null,
   "metadata": {
    "ExecuteTime": {
     "end_time": "2020-06-21T06:22:16.527277Z",
     "start_time": "2020-06-21T06:22:10.970Z"
    },
    "scrolled": true
   },
   "outputs": [],
   "source": [
    "#set new dataframe\n",
    "popularity = tmdb_mglb_df.loc[:, ['original_title', 'popularity', 'worldwide_gross', 'total_net']]\n",
    "popularity.head()"
   ]
  },
  {
   "cell_type": "code",
   "execution_count": null,
   "metadata": {
    "ExecuteTime": {
     "end_time": "2020-06-21T06:22:16.528275Z",
     "start_time": "2020-06-21T06:22:10.974Z"
    }
   },
   "outputs": [],
   "source": [
    "#sort by popularity\n",
    "\n",
    "popularity = popularity.sort_values(by=['popularity'], ascending=False)\n",
    "\n",
    "popularity.head()"
   ]
  },
  {
   "cell_type": "code",
   "execution_count": null,
   "metadata": {
    "ExecuteTime": {
     "end_time": "2020-06-21T06:22:16.529272Z",
     "start_time": "2020-06-21T06:22:10.977Z"
    }
   },
   "outputs": [],
   "source": [
    "#remove rows with empty values\n",
    "\n",
    "popularity = popularity.dropna() "
   ]
  },
  {
   "cell_type": "code",
   "execution_count": null,
   "metadata": {
    "ExecuteTime": {
     "end_time": "2020-06-21T06:22:16.530269Z",
     "start_time": "2020-06-21T06:22:10.981Z"
    }
   },
   "outputs": [],
   "source": [
    "#reset index of sorted dataframe and drop old index\n",
    "\n",
    "popularity = popularity.reset_index(drop=True)\n",
    "\n",
    "popularity"
   ]
  },
  {
   "cell_type": "code",
   "execution_count": null,
   "metadata": {
    "ExecuteTime": {
     "end_time": "2020-06-21T06:22:16.530269Z",
     "start_time": "2020-06-21T06:22:10.986Z"
    }
   },
   "outputs": [],
   "source": [
    "#set new dataframe of top 25 most popular movies\n",
    "\n",
    "pop25 = popularity[:25]\n",
    "pop25"
   ]
  },
  {
   "cell_type": "markdown",
   "metadata": {},
   "source": [
    "Plotting Popularity"
   ]
  },
  {
   "cell_type": "code",
   "execution_count": null,
   "metadata": {
    "ExecuteTime": {
     "end_time": "2020-06-21T06:22:16.532264Z",
     "start_time": "2020-06-21T06:22:10.989Z"
    }
   },
   "outputs": [],
   "source": [
    "#setting plot variables \n",
    "mov = pop25.loc[:, 'original_title']\n",
    "pop = pop25.loc[:, 'popularity']\n",
    "gross = pop25.loc[:, 'worldwide_gross']\n",
    "net = pop25.loc[:, 'total_net']"
   ]
  },
  {
   "cell_type": "code",
   "execution_count": null,
   "metadata": {
    "ExecuteTime": {
     "end_time": "2020-06-21T06:22:16.533263Z",
     "start_time": "2020-06-21T06:22:10.994Z"
    }
   },
   "outputs": [],
   "source": [
    "#plot movie vs. popularity rating\n",
    "\n",
    "%matplotlib inline\n",
    "plt.barh(mov, pop)\n",
    "plt.show()"
   ]
  },
  {
   "cell_type": "code",
   "execution_count": null,
   "metadata": {
    "ExecuteTime": {
     "end_time": "2020-06-21T06:22:16.534259Z",
     "start_time": "2020-06-21T06:22:10.998Z"
    }
   },
   "outputs": [],
   "source": [
    "#calculate median of top 25 popularity score\n",
    "\n",
    "pop25.loc[:, 'popularity'].median()"
   ]
  },
  {
   "cell_type": "code",
   "execution_count": null,
   "metadata": {
    "ExecuteTime": {
     "end_time": "2020-06-21T06:22:16.535257Z",
     "start_time": "2020-06-21T06:22:11.000Z"
    }
   },
   "outputs": [],
   "source": [
    "#popularity vs. gross\n",
    "\n",
    "plt.bar(pop, gross)\n",
    "plt.show()"
   ]
  },
  {
   "cell_type": "code",
   "execution_count": null,
   "metadata": {
    "ExecuteTime": {
     "end_time": "2020-06-21T06:22:16.535257Z",
     "start_time": "2020-06-21T06:22:11.004Z"
    }
   },
   "outputs": [],
   "source": [
    "#calculate median of gross\n",
    "\n",
    "pop25.loc[:, 'worldwide_gross'].median()"
   ]
  },
  {
   "cell_type": "code",
   "execution_count": null,
   "metadata": {
    "ExecuteTime": {
     "end_time": "2020-06-21T06:22:16.536253Z",
     "start_time": "2020-06-21T06:22:11.007Z"
    }
   },
   "outputs": [],
   "source": [
    "#popularity vs. net\n",
    "\n",
    "plt.bar(pop, net)\n",
    "plt.show()"
   ]
  },
  {
   "cell_type": "code",
   "execution_count": null,
   "metadata": {
    "ExecuteTime": {
     "end_time": "2020-06-21T06:22:16.537251Z",
     "start_time": "2020-06-21T06:22:11.011Z"
    }
   },
   "outputs": [],
   "source": [
    "popularity25.loc[:, 'total_net'].median() #calulate median of column"
   ]
  },
  {
   "cell_type": "markdown",
   "metadata": {},
   "source": [
    "**Finding**: Of the Top 25 movies with the highest popularity rating, an average rating of 44.383 correlated to a gross revenue of \\\\$652,220,086 and net profits of \\\\$493,144,660, respectively. \n",
    "    "
   ]
  },
  {
   "cell_type": "markdown",
   "metadata": {},
   "source": [
    "## Data Visualizations "
   ]
  },
  {
   "cell_type": "markdown",
   "metadata": {},
   "source": [
    "line graph of what gross profit looks like considering popularity. (popularity is the Y axis and dollars is the X axis)"
   ]
  },
  {
   "cell_type": "code",
   "execution_count": null,
   "metadata": {
    "ExecuteTime": {
     "end_time": "2020-06-20T20:26:01.825917Z",
     "start_time": "2020-06-20T20:25:55.897Z"
    }
   },
   "outputs": [],
   "source": []
  },
  {
   "cell_type": "code",
   "execution_count": null,
   "metadata": {},
   "outputs": [],
   "source": []
  }
 ],
 "metadata": {
  "kernelspec": {
   "display_name": "Python [conda env:learn-env] *",
   "language": "python",
   "name": "conda-env-learn-env-py"
  },
  "language_info": {
   "codemirror_mode": {
    "name": "ipython",
    "version": 3
   },
   "file_extension": ".py",
   "mimetype": "text/x-python",
   "name": "python",
   "nbconvert_exporter": "python",
   "pygments_lexer": "ipython3",
   "version": "3.6.9"
  },
  "toc": {
   "base_numbering": 1,
   "nav_menu": {},
   "number_sections": true,
   "sideBar": true,
   "skip_h1_title": false,
   "title_cell": "Table of Contents",
   "title_sidebar": "Contents",
   "toc_cell": false,
   "toc_position": {
    "height": "calc(100% - 180px)",
    "left": "10px",
    "top": "150px",
    "width": "342px"
   },
   "toc_section_display": true,
   "toc_window_display": true
  },
  "varInspector": {
   "cols": {
    "lenName": 16,
    "lenType": 16,
    "lenVar": 40
   },
   "kernels_config": {
    "python": {
     "delete_cmd_postfix": "",
     "delete_cmd_prefix": "del ",
     "library": "var_list.py",
     "varRefreshCmd": "print(var_dic_list())"
    },
    "r": {
     "delete_cmd_postfix": ") ",
     "delete_cmd_prefix": "rm(",
     "library": "var_list.r",
     "varRefreshCmd": "cat(var_dic_list()) "
    }
   },
   "position": {
    "height": "416px",
    "left": "1070px",
    "right": "20px",
    "top": "118px",
    "width": "350px"
   },
   "types_to_exclude": [
    "module",
    "function",
    "builtin_function_or_method",
    "instance",
    "_Feature"
   ],
   "window_display": false
  }
 },
 "nbformat": 4,
 "nbformat_minor": 2
}
