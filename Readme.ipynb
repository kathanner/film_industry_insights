{
 "cells": [
  {
   "cell_type": "markdown",
   "metadata": {},
   "source": [
    "***Readme***"
   ]
  },
  {
   "cell_type": "markdown",
   "metadata": {},
   "source": [
    "# Establishing a New Film Studio — Industry Insights and Recommendations"
   ]
  },
  {
   "cell_type": "markdown",
   "metadata": {},
   "source": [
    "## Exploratory Data Analysis (EDA)"
   ]
  },
  {
   "cell_type": "markdown",
   "metadata": {},
   "source": [
    "A discovery session was conducted to look at the provided datasets. Findings indicated that the data related well to each other and could be joined to understand these key items:\n",
    "\n",
    "* Genres\n",
    "* Net Profits\n",
    "* Top ratings\n",
    "* Director Involvement \n",
    "\n",
    "These datasets were cleaned to allow pivoting on individual film genres and supplemented with API data from themoviedb.org. A SQLite3 database was created to leverage the datasets together to approach the goals and objectives of this project. <a href=\"https://github.com/kathanner/film_industry_insights/blob/master/movies_db_schema.pdf\">View database schema »</a>"
   ]
  },
  {
   "cell_type": "markdown",
   "metadata": {},
   "source": [
    "## Goals and Objectives"
   ]
  },
  {
   "cell_type": "markdown",
   "metadata": {},
   "source": [
    "### Find Genre Correlations with Industry Revenue"
   ]
  },
  {
   "cell_type": "markdown",
   "metadata": {},
   "source": [
    "notebook: <a href=\"https://github.com/kathanner/film_industry_insights/blob/master/f1_GenresNetProfit.ipynb\">f1_GenresNetProfit.ipynb</a>\n",
    "\n",
    "Correlating the IMDB genre data with our Budget dataset, we found the top films and associated genres as shown here. So, for top net revenue films, the most represented genre was Adventure followed closely by Action and Fantasy. And for the top gross revenue films, we found a similar genre representation with Action and Adventure followed by SciFi with the most representation.\n",
    "\n",
    "Note: lower production cost != higher net revenue. And vice versa. Gross revenue can be considered as weighted heavier than production cost."
   ]
  },
  {
   "attachments": {},
   "cell_type": "markdown",
   "metadata": {},
   "source": [
    "![/images/genreRepresentation.png](/images/genreRepresentation.png)"
   ]
  },
  {
   "cell_type": "markdown",
   "metadata": {},
   "source": [
    "Looking at our Budget dataset, we can see that the highest Gross Revenue across IMDB genres are Adventure, Action, SciFi and Comedy. Specifically, we were interested in understanding the trend in film genres having a gross revenue of more than \\\\$500M. Here, we can see that of the 120 films grossing more than \\\\$500M, Adventure and Action are very popular genre associations. This also re-emphasizes the genre association in the top net-profit data.\n"
   ]
  },
  {
   "attachments": {},
   "cell_type": "markdown",
   "metadata": {},
   "source": [
    "![/images/genresGross.png](/images/genresGross.png)"
   ]
  },
  {
   "cell_type": "markdown",
   "metadata": {},
   "source": [
    "### How do Ratings Impact Film Success?"
   ]
  },
  {
   "cell_type": "markdown",
   "metadata": {},
   "source": [
    "notebook: <a href=\"https://github.com/kathanner/film_industry_insights/blob/master/f2_topRatings.ipynb\">f2_topRatings.ipynb</a>\n",
    "\n",
    "From Rotten Tomatoes, films with the highest ratings and highest box office revenue are primarily distributed within these genres: \n",
    "* Drama\n",
    "* Comedy \n",
    "* Adventure\n",
    "\n",
    "In the chart here, these are the films that are A+, 100%, 5/5 top ratings (from both critics and users) and where box office revenue is above \\\\$100,000\n",
    "\n",
    "Putting it all together, the genres for Action and Adventure are trending for a combination of net profits, highest ratings and box office revenue\n",
    "\n",
    "But comparing ratings and box-office revenue, there may be potential in the top-rated genres of Drama and Comedy.\n"
   ]
  },
  {
   "attachments": {},
   "cell_type": "markdown",
   "metadata": {},
   "source": [
    "![/images/toprated.png](/images/toprated.png)"
   ]
  },
  {
   "cell_type": "markdown",
   "metadata": {},
   "source": [
    "### Directors Influence on the Bottom Line"
   ]
  },
  {
   "cell_type": "markdown",
   "metadata": {},
   "source": [
    "notebook: <a href=\"https://github.com/kathanner/film_industry_insights/blob/master/f3_directorImpact.ipynb\">f3_directorImpact.ipynb</a>\n",
    "\n",
    "Of the top 5 net revenue films, nearly all of the directors are well known for their work on these films. 88% to be exact. By reviewing the IMDB data, we can see that 'Beauty and the Beast' is the outlier. The Director for this film, Bill Condon, is well known for other productions but just not for his work on this particular film.\n",
    "\n",
    "Looking at the user/viewer ratings  in The Movie DB.org and considering viewer ratings of 7 or higher, we saw that 82% of the directors of these films are also well-known for their work on the top user-rated films.\n",
    "We saw a direct correlation across data sets between directors, net revenue and top user-rated films from The Movie Database.org\n"
   ]
  },
  {
   "cell_type": "markdown",
   "metadata": {},
   "source": [
    "### Overall Recommendations"
   ]
  },
  {
   "cell_type": "markdown",
   "metadata": {},
   "source": [
    "Consider the following strategic approaches:\n",
    "\n",
    "***Genres with two options***\n",
    "* Enter the market that produces the most net revenue: Action and Adventure.\n",
    "* Invest in Sci-Fi and Comedy. These genres are not oversaturated and yield a healthy overall gross profit. \n",
    " \n",
    "***Directors***\n",
    "* Pair well-known directors with top-grossing genres to optimize user ratings and net revenue."
   ]
  },
  {
   "cell_type": "markdown",
   "metadata": {},
   "source": [
    "### Scalability and Future Objectives"
   ]
  },
  {
   "cell_type": "markdown",
   "metadata": {},
   "source": [
    "Cross-platform integration based on character recognition\n",
    "\n",
    "Continue comparison of ratings, actors and net profit\n",
    "* Review which actors can create characters who are well known\n",
    "\n",
    "\n",
    "* Consider developing cross-platform products such as video games and merchandising that will leverage\n",
    "    * Known genres that have high audience ratings\n",
    "    * Actors are capable of creating well-known characters\n"
   ]
  },
  {
   "cell_type": "markdown",
   "metadata": {},
   "source": [
    "## Presentation of Recommendations\n",
    "<a href=\"https://docs.google.com/presentation/d/10qUQy5TSs8HamXQCs1739KMuiPclPz1noTJWi_lz0Uw/edit?usp=sharing\" target=\"_blank\">Google Slides: Film Industry Insights</a>"
   ]
  },
  {
   "cell_type": "markdown",
   "metadata": {},
   "source": [
    "## Datasets and Sources"
   ]
  },
  {
   "cell_type": "markdown",
   "metadata": {},
   "source": [
    "The provided datasets and supplemental API data came from the following sources:\n",
    "* IMDB — Industry Data\n",
    "* Box Office Mojo — Industry Data: An IMDB product \n",
    "* The Numbers — Industry Data: Movie Budget and Financial Performance Records\n",
    "* Rotten Tomatoes — User-Generated and Industry Data: Critic and viewer reviews. Box office numbers.\n",
    "* TheMovieDB.org — User-Generated Content: ratings\n"
   ]
  },
  {
   "cell_type": "markdown",
   "metadata": {},
   "source": [
    "to create the database, run this notebook: <a href=\"https://github.com/kathanner/film_industry_insights/blob/master/SQLiteDatabase.ipynb\">SQLiteDatabase.ipynb</a>"
   ]
  },
  {
   "cell_type": "code",
   "execution_count": null,
   "metadata": {},
   "outputs": [],
   "source": []
  }
 ],
 "metadata": {
  "kernelspec": {
   "display_name": "Python 3",
   "language": "python",
   "name": "python3"
  },
  "language_info": {
   "codemirror_mode": {
    "name": "ipython",
    "version": 3
   },
   "file_extension": ".py",
   "mimetype": "text/x-python",
   "name": "python",
   "nbconvert_exporter": "python",
   "pygments_lexer": "ipython3",
   "version": "3.8.3"
  },
  "toc": {
   "base_numbering": 1,
   "nav_menu": {},
   "number_sections": true,
   "sideBar": true,
   "skip_h1_title": false,
   "title_cell": "Table of Contents",
   "title_sidebar": "Contents",
   "toc_cell": false,
   "toc_position": {},
   "toc_section_display": true,
   "toc_window_display": false
  },
  "varInspector": {
   "cols": {
    "lenName": 16,
    "lenType": 16,
    "lenVar": 40
   },
   "kernels_config": {
    "python": {
     "delete_cmd_postfix": "",
     "delete_cmd_prefix": "del ",
     "library": "var_list.py",
     "varRefreshCmd": "print(var_dic_list())"
    },
    "r": {
     "delete_cmd_postfix": ") ",
     "delete_cmd_prefix": "rm(",
     "library": "var_list.r",
     "varRefreshCmd": "cat(var_dic_list()) "
    }
   },
   "types_to_exclude": [
    "module",
    "function",
    "builtin_function_or_method",
    "instance",
    "_Feature"
   ],
   "window_display": false
  }
 },
 "nbformat": 4,
 "nbformat_minor": 2
}
